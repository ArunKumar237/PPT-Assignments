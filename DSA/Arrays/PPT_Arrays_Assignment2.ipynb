{
 "cells": [
  {
   "cell_type": "markdown",
   "id": "fbc6b69f",
   "metadata": {},
   "source": [
    "**Question 1**\n",
    "Given an integer array nums of 2n integers, group these integers into n pairs (a1, b1), (a2, b2),..., (an, bn) such that the sum of min(ai, bi) for all i is maximized. Return the maximized sum.\n",
    "\n",
    "**Example 1:**\n",
    "```\n",
    "Input: nums = [1,4,3,2]\n",
    "Output: 4\n",
    "```\n",
    "\n",
    "**Explanation:** All possible pairings (ignoring the ordering of elements) are:\n",
    "```\n",
    "1. (1, 4), (2, 3) -> min(1, 4) + min(2, 3) = 1 + 2 = 3\n",
    "2. (1, 3), (2, 4) -> min(1, 3) + min(2, 4) = 1 + 2 = 3\n",
    "3. (1, 2), (3, 4) -> min(1, 2) + min(3, 4) = 1 + 3 = 4\n",
    "So the maximum possible sum is 4\n",
    "```"
   ]
  },
  {
   "cell_type": "code",
   "execution_count": 2,
   "id": "aa7f30c6",
   "metadata": {},
   "outputs": [],
   "source": [
    "def arrayPairSum(nums):\n",
    "    nums.sort()\n",
    "    result = 0\n",
    "    numsLen = len(nums)\n",
    "    for i in range(0, numsLen - 1, 2):\n",
    "        result += nums[i]\n",
    "    return result"
   ]
  },
  {
   "cell_type": "code",
   "execution_count": 3,
   "id": "340c30c6",
   "metadata": {},
   "outputs": [
    {
     "data": {
      "text/plain": [
       "4"
      ]
     },
     "execution_count": 3,
     "metadata": {},
     "output_type": "execute_result"
    }
   ],
   "source": [
    "arrayPairSum([1,4,3,2])"
   ]
  },
  {
   "cell_type": "markdown",
   "id": "99de1f51",
   "metadata": {},
   "source": [
    "---"
   ]
  },
  {
   "cell_type": "markdown",
   "id": "5bad9197",
   "metadata": {},
   "source": [
    "**Question 2:** Alice has n candies, where the ith candy is of type candyType[i]. Alice noticed that she started to gain weight, so she visited a doctor. \n",
    "\n",
    "The doctor advised Alice to only eat n / 2 of the candies she has (n is always even). Alice likes her candies very much, and she wants to eat the maximum number of different types of candies while still following the doctor's advice. \n",
    "\n",
    "Given the integer array candyType of length n, return the maximum number of different types of candies she can eat if she only eats n / 2 of them.\n",
    "\n",
    "**Example 1:**\n",
    "Input: candyType = [1,1,2,2,3,3]\n",
    "Output: 3\n",
    "\n",
    "**Explanation:** Alice can only eat 6 / 2 = 3 candies. Since there are only 3 types, she can eat one of each type."
   ]
  },
  {
   "cell_type": "code",
   "execution_count": 5,
   "id": "36511a8c",
   "metadata": {},
   "outputs": [],
   "source": [
    "def distributeCandies(candyType):\n",
    "    return min(len(candyType) >> 1, len(set(candyType)))"
   ]
  },
  {
   "cell_type": "code",
   "execution_count": 6,
   "id": "d52a6c64",
   "metadata": {},
   "outputs": [
    {
     "data": {
      "text/plain": [
       "3"
      ]
     },
     "execution_count": 6,
     "metadata": {},
     "output_type": "execute_result"
    }
   ],
   "source": [
    "distributeCandies([1,1,2,2,3,3])"
   ]
  },
  {
   "cell_type": "markdown",
   "id": "4b812ced",
   "metadata": {},
   "source": [
    "---"
   ]
  },
  {
   "cell_type": "markdown",
   "id": "f009579b",
   "metadata": {},
   "source": [
    "**Question 3:**\n",
    "We define a harmonious array as an array where the difference between its maximum value\n",
    "and its minimum value is exactly 1.\n",
    "\n",
    "Given an integer array nums, return the length of its longest harmonious subsequence\n",
    "among all its possible subsequences.\n",
    "\n",
    "A subsequence of an array is a sequence that can be derived from the array by deleting some or no elements without changing the order of the remaining elements.\n",
    "\n",
    "**Example 1:**\n",
    "```\n",
    "Input: nums = [1,3,2,2,5,2,3,7]\n",
    "Output: 5\n",
    "```\n",
    "**Explanation:** The longest harmonious subsequence is [3,2,2,2,3]."
   ]
  },
  {
   "cell_type": "code",
   "execution_count": 9,
   "id": "e939d22f",
   "metadata": {},
   "outputs": [],
   "source": [
    "from collections import Counter\n",
    "def findLHS(nums):\n",
    "    tmp = Counter(nums)\n",
    "    keys = tmp.keys()\n",
    "    max = 0\n",
    "    for num in keys:\n",
    "        if num - 1 in keys:\n",
    "            if tmp[num - 1] + tmp[num] > max:\n",
    "                max = tmp[num - 1] + tmp[num]\n",
    "    return max"
   ]
  },
  {
   "cell_type": "code",
   "execution_count": 10,
   "id": "c59df703",
   "metadata": {},
   "outputs": [
    {
     "data": {
      "text/plain": [
       "5"
      ]
     },
     "execution_count": 10,
     "metadata": {},
     "output_type": "execute_result"
    }
   ],
   "source": [
    "findLHS([1,3,2,2,5,2,3,7])"
   ]
  },
  {
   "cell_type": "markdown",
   "id": "c8854236",
   "metadata": {},
   "source": [
    "---"
   ]
  },
  {
   "cell_type": "markdown",
   "id": "c2cadd1f",
   "metadata": {},
   "source": [
    "**Question 4:**\n",
    "You have a long flowerbed in which some of the plots are planted, and some are not.\n",
    "However, flowers cannot be planted in adjacent plots.\n",
    "Given an integer array flowerbed containing 0's and 1's, where 0 means empty and 1 means not empty, and an integer n, return true if n new flowers can be planted in the flowerbed without violating the no-adjacent-flowers rule and false otherwise.\n",
    "\n",
    "**Example 1:**\n",
    "    ```\n",
    "Input: flowerbed = [1,0,0,0,1], n = 1\n",
    "Output: true\n",
    "    ```"
   ]
  },
  {
   "cell_type": "code",
   "execution_count": 16,
   "id": "c2aa22b6",
   "metadata": {},
   "outputs": [],
   "source": [
    "def canPlaceFlowers(flowerbed, n):\n",
    "    count, prev = 0, 0\n",
    "\n",
    "    for cur in flowerbed:\n",
    "        if cur == 1:\n",
    "            if prev == 1: # violation!\n",
    "                count -= 1\n",
    "            prev = 1\n",
    "        else:\n",
    "            if prev == 1: # can't plant\n",
    "                prev = 0 \n",
    "            else:\n",
    "                count += 1\n",
    "                prev = 1 # the cur plot gets taken\n",
    "\n",
    "    return count >= n"
   ]
  },
  {
   "cell_type": "code",
   "execution_count": 17,
   "id": "87a551fa",
   "metadata": {},
   "outputs": [
    {
     "data": {
      "text/plain": [
       "True"
      ]
     },
     "execution_count": 17,
     "metadata": {},
     "output_type": "execute_result"
    }
   ],
   "source": [
    "canPlaceFlowers([1,0,0,0,1],1)"
   ]
  },
  {
   "cell_type": "markdown",
   "id": "214de0b4",
   "metadata": {},
   "source": [
    "---"
   ]
  },
  {
   "cell_type": "markdown",
   "id": "91619641",
   "metadata": {},
   "source": [
    "**Question 5:**\n",
    "Given an integer array nums, find three numbers whose product is maximum and return the maximum product.\n",
    "\n",
    "**Example 1:**\n",
    "```\n",
    "Input: nums = [1,2,3]\n",
    "Output: 6\n",
    "```"
   ]
  },
  {
   "cell_type": "code",
   "execution_count": 18,
   "id": "188ea866",
   "metadata": {},
   "outputs": [],
   "source": [
    "def maximumProduct(nums):\n",
    "    smallestTwo = [float('inf')]*2\n",
    "    largestThree = [float('-inf')]*3\n",
    "    for num in nums:\n",
    "        if num <= smallestTwo[0]:\n",
    "            smallestTwo[0] = num\n",
    "            smallestTwo.sort(reverse=True)\n",
    "        if num >= largestThree[0]:\n",
    "            largestThree[0] = num\n",
    "            largestThree.sort()\n",
    "    return max(smallestTwo[0]*smallestTwo[1]*largestThree[2], \n",
    "               largestThree[0]*largestThree[1]*largestThree[2])"
   ]
  },
  {
   "cell_type": "code",
   "execution_count": 19,
   "id": "43de5020",
   "metadata": {},
   "outputs": [
    {
     "data": {
      "text/plain": [
       "6"
      ]
     },
     "execution_count": 19,
     "metadata": {},
     "output_type": "execute_result"
    }
   ],
   "source": [
    "maximumProduct([1,2,3])"
   ]
  },
  {
   "cell_type": "markdown",
   "id": "70eb8775",
   "metadata": {},
   "source": [
    "---"
   ]
  },
  {
   "cell_type": "markdown",
   "id": "f45df011",
   "metadata": {},
   "source": [
    "**Question 6:**\n",
    "Given an array of integers nums which is sorted in ascending order, and an integer target,\n",
    "write a function to search target in nums. If target exists, then return its index. Otherwise,\n",
    "return -1.\n",
    "\n",
    "You must write an algorithm with O(log n) runtime complexity.\n",
    "**Example:**\n",
    "```\n",
    "Input: nums = [-1,0,3,5,9,12], target = 9\n",
    "Output: 4\n",
    "```\n",
    "**Explanation:** 9 exists in nums and its index is 4"
   ]
  },
  {
   "cell_type": "code",
   "execution_count": 27,
   "id": "45b04614",
   "metadata": {},
   "outputs": [],
   "source": [
    "def search(nums, target):\n",
    "    left = 0\n",
    "    right = len(nums) - 1\n",
    "    \n",
    "    while left <= right:\n",
    "        mid = (left + right) // 2\n",
    "        \n",
    "        if nums[mid] == target:\n",
    "            return mid\n",
    "        elif nums[mid] < target:\n",
    "            left = mid + 1\n",
    "        else:\n",
    "            right = mid - 1\n",
    "    \n",
    "    return -1\n"
   ]
  },
  {
   "cell_type": "code",
   "execution_count": 28,
   "id": "afadadd1",
   "metadata": {},
   "outputs": [
    {
     "data": {
      "text/plain": [
       "4"
      ]
     },
     "execution_count": 28,
     "metadata": {},
     "output_type": "execute_result"
    }
   ],
   "source": [
    "search([-1,0,3,5,9,12],9)"
   ]
  },
  {
   "cell_type": "markdown",
   "id": "d659d4a2",
   "metadata": {},
   "source": [
    "---"
   ]
  },
  {
   "cell_type": "markdown",
   "id": "37a307e0",
   "metadata": {},
   "source": [
    "**Question 7:**\n",
    "An array is monotonic if it is either monotone increasing or monotone decreasing.\n",
    "\n",
    "An array nums is monotone increasing if for all i <= j, nums[i] <= nums[j]. An array nums is\n",
    "monotone decreasing if for all i <= j, nums[i] >= nums[j].\n",
    "\n",
    "Given an integer array nums, return true if the given array is monotonic, or false otherwise.\n",
    "\n",
    "**Example 1:**\n",
    "```\n",
    "Input: nums = [1,2,2,3]\n",
    "Output: true\n",
    "```"
   ]
  },
  {
   "cell_type": "code",
   "execution_count": 29,
   "id": "8e1b0347",
   "metadata": {},
   "outputs": [],
   "source": [
    "def isMonotonic(nums):\n",
    "    increasing = decreasing = True\n",
    "    \n",
    "    for i in range(1, len(nums)):\n",
    "        if nums[i] < nums[i-1]:\n",
    "            increasing = False\n",
    "        if nums[i] > nums[i-1]:\n",
    "            decreasing = False\n",
    "            \n",
    "    return increasing or decreasing\n"
   ]
  },
  {
   "cell_type": "code",
   "execution_count": 30,
   "id": "124a6549",
   "metadata": {},
   "outputs": [
    {
     "data": {
      "text/plain": [
       "True"
      ]
     },
     "execution_count": 30,
     "metadata": {},
     "output_type": "execute_result"
    }
   ],
   "source": [
    "isMonotonic([1,2,2,3])"
   ]
  },
  {
   "cell_type": "markdown",
   "id": "cb716f77",
   "metadata": {},
   "source": [
    "---"
   ]
  },
  {
   "cell_type": "markdown",
   "id": "12f980ac",
   "metadata": {},
   "source": [
    "**Question 8:**\n",
    "You are given an integer array nums and an integer k.\n",
    "\n",
    "In one operation, you can choose any index i where 0 <= i < nums.length and change nums[i] to nums[i] + x where x is an integer from the range [-k, k]. You can apply this operation at most once for each index i.\n",
    "\n",
    "The score of nums is the difference between the maximum and minimum elements in nums.\n",
    "\n",
    "Return the minimum score of nums after applying the mentioned operation at most once for each index in it.\n",
    "\n",
    "**Example 1:**\n",
    "Input: nums = [1], k = 0\n",
    "Output: 0\n",
    "\n",
    "**Explanation:** The score is max(nums) - min(nums) = 1 - 1 = 0."
   ]
  },
  {
   "cell_type": "code",
   "execution_count": 31,
   "id": "a8ce9ece",
   "metadata": {},
   "outputs": [],
   "source": [
    "def minScore(nums, k):\n",
    "    min_num = float('inf')\n",
    "    max_num = float('-inf')\n",
    "    \n",
    "    # Step 1: Find the minimum and maximum values in nums\n",
    "    for num in nums:\n",
    "        min_num = min(min_num, num)\n",
    "        max_num = max(max_num, num)\n",
    "    \n",
    "    # Step 2: Calculate the initial score\n",
    "    initial_score = max_num - min_num\n",
    "    \n",
    "    # Step 3: If the initial score is 0, return 0\n",
    "    if initial_score == 0:\n",
    "        return 0\n",
    "    \n",
    "    # Step 4: Iterate through nums and calculate the minimum possible score\n",
    "    min_score = initial_score\n",
    "    for num in nums:\n",
    "        # Calculate the minimum possible value for num\n",
    "        min_val = max(min_num + k, num - k)\n",
    "        # Calculate the maximum possible value for num\n",
    "        max_val = min(max_num - k, num + k)\n",
    "        # Update min_score based on the new possible range for num\n",
    "        min_score = min(min_score, max_num - min_val, max_val - min_num)\n",
    "    \n",
    "    return min_score"
   ]
  },
  {
   "cell_type": "code",
   "execution_count": 32,
   "id": "a56f25e8",
   "metadata": {},
   "outputs": [
    {
     "data": {
      "text/plain": [
       "0"
      ]
     },
     "execution_count": 32,
     "metadata": {},
     "output_type": "execute_result"
    }
   ],
   "source": [
    "minScore([1],0)"
   ]
  },
  {
   "cell_type": "code",
   "execution_count": null,
   "id": "26384cc6",
   "metadata": {},
   "outputs": [],
   "source": []
  }
 ],
 "metadata": {
  "kernelspec": {
   "display_name": "Python 3 (ipykernel)",
   "language": "python",
   "name": "python3"
  },
  "language_info": {
   "codemirror_mode": {
    "name": "ipython",
    "version": 3
   },
   "file_extension": ".py",
   "mimetype": "text/x-python",
   "name": "python",
   "nbconvert_exporter": "python",
   "pygments_lexer": "ipython3",
   "version": "3.9.13"
  }
 },
 "nbformat": 4,
 "nbformat_minor": 5
}
