{
  "nbformat": 4,
  "nbformat_minor": 0,
  "metadata": {
    "colab": {
      "provenance": []
    },
    "kernelspec": {
      "name": "python3",
      "display_name": "Python 3"
    },
    "language_info": {
      "name": "python"
    }
  },
  "cells": [
    {
      "cell_type": "markdown",
      "source": [
        "**Q1.** Given an array of integers nums and an integer target, return indices of the two numbers such that they add up to target.\n",
        "\n",
        "You may assume that each input would have exactly one solution, and you may not use the same element twice.\n",
        "\n",
        "You can return the answer in any order.\n",
        "\n",
        "**Example:**\n",
        "```\n",
        "  Input: nums = [2,7,11,15], target = 9\n",
        "  Output0 [0,1]\n",
        "```\n",
        "**Explanation:** \n",
        "```\n",
        "Because nums[0] + nums[1] == 9, we return [0, 1][\n"
      ],
      "metadata": {
        "id": "sJ7_5Pbv1_IV"
      }
    },
    {
      "cell_type": "code",
      "source": [
        "def get_index(nums,target):\n",
        "  dic = {}\n",
        "  for i in range(len(nums)-1):\n",
        "    dic[nums[i]] = i\n",
        "    if target - nums[i+1] in dic:\n",
        "      print('Input:  ',nums,target)\n",
        "      print('Output: ',[dic.get(target-nums[i+1]), i+1])\n",
        "      print('\\n')\n",
        "    \n",
        "    \n",
        "\n",
        "get_index([3,3],6)\n",
        "\n",
        "get_index([3,2,4],6)\n",
        "\n",
        "get_index([2,7,11,15],9)\n",
        "\n",
        "get_index([2,7,11,15], 18)\n",
        "\n",
        "get_index([2,7,11,15],17)"
      ],
      "metadata": {
        "colab": {
          "base_uri": "https://localhost:8080/"
        },
        "id": "O7Ox28te2MXy",
        "outputId": "c5219e1b-d61d-43c5-9206-46a6564c035e"
      },
      "execution_count": 101,
      "outputs": [
        {
          "output_type": "stream",
          "name": "stdout",
          "text": [
            "Input:   [3, 3] 6\n",
            "Output:  [0, 1]\n",
            "\n",
            "\n",
            "Input:   [3, 2, 4] 6\n",
            "Output:  [1, 2]\n",
            "\n",
            "\n",
            "Input:   [2, 7, 11, 15] 9\n",
            "Output:  [0, 1]\n",
            "\n",
            "\n",
            "Input:   [2, 7, 11, 15] 18\n",
            "Output:  [1, 2]\n",
            "\n",
            "\n",
            "Input:   [2, 7, 11, 15] 17\n",
            "Output:  [0, 3]\n",
            "\n",
            "\n"
          ]
        }
      ]
    },
    {
      "cell_type": "markdown",
      "source": [
        " **Q2.** Given an integer array nums and an integer val, remove all occurrences of val in nums in-place. The order of the elements may be changed. Then return the number of elements in nums which are not equal to val.\n",
        "\n",
        "Consider the number of elements in nums which are not equal to val be k, to get accepted, you need to do the following things:\n",
        "\n",
        "- Change the array nums such that the first k elements of nums contain the elements which are not equal to val. The remaining elements of nums are not important as well as the size of nums.\n",
        "- Return k.\n",
        "\n",
        "**Example :**\n",
        "```\n",
        "Input: nums = [3,2,2,3], val = 3\n",
        "Output: 2, nums = [2,2,_*,_*]\n",
        "```\n",
        "**Explanation:** \n",
        "```\n",
        "Your function should return k = 2, with the first two elements of nums being 2. It does not matter what you leave beyond the returned k (hence they are underscores)[\n"
      ],
      "metadata": {
        "id": "VoZDAjqV1_Mj"
      }
    },
    {
      "cell_type": "code",
      "source": [
        "def replace_and_count(nums, val):\n",
        "  i=0\n",
        "  for j in range(len(nums)):\n",
        "      if nums[j]!=val:\n",
        "          nums[i]=nums[j]\n",
        "          i+=1\n",
        "  return i\n",
        "\n",
        "\n",
        "replace_and_count([3,2,2,3], 3)\n",
        "replace_and_count([9,8,7,6,3,8,2,6,5], 8)"
      ],
      "metadata": {
        "colab": {
          "base_uri": "https://localhost:8080/"
        },
        "id": "OHHKiM0T2M7T",
        "outputId": "0dce6e17-21ec-45f9-bb67-2c13732a2042"
      },
      "execution_count": 123,
      "outputs": [
        {
          "output_type": "execute_result",
          "data": {
            "text/plain": [
              "7"
            ]
          },
          "metadata": {},
          "execution_count": 123
        }
      ]
    },
    {
      "cell_type": "markdown",
      "source": [
        "**Q3.** Given a sorted array of distinct integers and a target value, return the index if the target is found. If not, return the index where it would be if it were inserted in order.\n",
        "\n",
        "You must write an algorithm with O(log n) runtime complexity.\n",
        "\n",
        "**Example 1:**\n",
        "```\n",
        "Input: nums = [1,3,5,6], target = 5\n",
        "Output: 2\n",
        "```"
      ],
      "metadata": {
        "id": "VHnfZzmD1_RD"
      }
    },
    {
      "cell_type": "code",
      "source": [
        "def find_idx(nums,target):\n",
        "  for i in range(len(nums)):\n",
        "    if nums[-1] < target:\n",
        "      return len(nums)\n",
        "    elif nums[i] == target:\n",
        "      return i\n",
        "    elif nums[i] > target:\n",
        "      return i\n",
        "\n",
        "find_idx([1,3,5,6],2)"
      ],
      "metadata": {
        "colab": {
          "base_uri": "https://localhost:8080/"
        },
        "id": "VWZio4zG2NTK",
        "outputId": "bc729a86-f8a7-4631-df60-656fa2e27d6d"
      },
      "execution_count": 141,
      "outputs": [
        {
          "output_type": "execute_result",
          "data": {
            "text/plain": [
              "1"
            ]
          },
          "metadata": {},
          "execution_count": 141
        }
      ]
    },
    {
      "cell_type": "code",
      "source": [
        "find_idx([1,3,5,6],5)"
      ],
      "metadata": {
        "colab": {
          "base_uri": "https://localhost:8080/"
        },
        "id": "GORoJrADfEL8",
        "outputId": "e871900e-d898-4689-b5e7-5cd074ba42c6"
      },
      "execution_count": 140,
      "outputs": [
        {
          "output_type": "execute_result",
          "data": {
            "text/plain": [
              "2"
            ]
          },
          "metadata": {},
          "execution_count": 140
        }
      ]
    },
    {
      "cell_type": "code",
      "source": [
        "find_idx([1,3,5,6],7)"
      ],
      "metadata": {
        "colab": {
          "base_uri": "https://localhost:8080/"
        },
        "id": "6k_aSa46fID3",
        "outputId": "6c81f74c-1ca2-4361-981c-f42800431077"
      },
      "execution_count": 139,
      "outputs": [
        {
          "output_type": "execute_result",
          "data": {
            "text/plain": [
              "4"
            ]
          },
          "metadata": {},
          "execution_count": 139
        }
      ]
    },
    {
      "cell_type": "markdown",
      "source": [
        "**Q4.** You are given a large integer represented as an integer array digits, where each digits[i] is the ith digit of the integer. The digits are ordered from most significant to least significant in left-to-right order. The large integer does not contain any leading 0's.\n",
        "\n",
        "Increment the large integer by one and return the resulting array of digits.\n",
        "\n",
        "**Example 1:**\n",
        "```\n",
        "Input: digits = [1,2,3]\n",
        "Output: [1,2,4]\n",
        "```\n",
        "**Explanation:** \n",
        "```\n",
        "The array represents the integer 123.\n",
        "Incrementing by one gives 123 + 1 = 124.\n",
        "Thus, the result should be [1,2,4].\n",
        "```"
      ],
      "metadata": {
        "id": "UQuNkqgo1_V4"
      }
    },
    {
      "cell_type": "code",
      "source": [
        "def add_then_list(inp: list):\n",
        "  return list(map(int,str(int(''.join(map(str,inp)))+1)))\n",
        "\n",
        "add_then_list([1,2,3])"
      ],
      "metadata": {
        "colab": {
          "base_uri": "https://localhost:8080/"
        },
        "id": "isg5PweG2NxB",
        "outputId": "666693f8-0432-44e1-cf18-8e3059b80583"
      },
      "execution_count": 151,
      "outputs": [
        {
          "output_type": "execute_result",
          "data": {
            "text/plain": [
              "[1, 2, 4]"
            ]
          },
          "metadata": {},
          "execution_count": 151
        }
      ]
    },
    {
      "cell_type": "markdown",
      "source": [
        "**Q5.** You are given two integer arrays nums1 and nums2, sorted in non-decreasing order, and two integers m and n, representing the number of elements in nums1 and nums2 respectively.\n",
        "\n",
        "Merge nums1 and nums2 into a single array sorted in non-decreasing order.\n",
        "\n",
        "The final sorted array should not be returned by the function, but instead be stored inside the array nums1. To accommodate this, nums1 has a length of m + n, where the first m elements denote the elements that should be merged, and the last n elements are set to 0 and should be ignored. nums2 has a length of n.\n",
        "\n",
        "**Example 1:**\n",
        "```\n",
        "Input: nums1 = [1,2,3,0,0,0], m = 3, nums2 = [2,5,6], n = 3\n",
        "Output: [1,2,2,3,5,6]\n",
        "```\n",
        "**Explanation:** \n",
        "```\n",
        "The arrays we are merging are [1,2,3] and [2,5,6].\n",
        "The result of the merge is [1,2,2,3,5,6] with the underlined elements coming from nums1.\n",
        "``` "
      ],
      "metadata": {
        "id": "8Wj5Rf5S1_aw"
      }
    },
    {
      "cell_type": "code",
      "source": [
        "def extend(nums1,  m, nums2, n):\n",
        "  if m == 0 and n != 0:\n",
        "    nums1 = nums2\n",
        "    return nums1\n",
        "  elif m == 1 and n == 0:\n",
        "    return nums1\n",
        "  elif m == n:\n",
        "    nums1 = nums1[:len(nums2)]\n",
        "    nums1.extend(nums2)\n",
        "    nums1.sort()\n",
        "    return nums1\n",
        "\n",
        "\n",
        "extend([1,2,3,0,0,0],3,[2,5,6],3)"
      ],
      "metadata": {
        "colab": {
          "base_uri": "https://localhost:8080/"
        },
        "id": "1_f76kXH2OSt",
        "outputId": "9e308a83-4ba3-49dd-b100-dcbee68e9a70"
      },
      "execution_count": 186,
      "outputs": [
        {
          "output_type": "execute_result",
          "data": {
            "text/plain": [
              "[1, 2, 2, 3, 5, 6]"
            ]
          },
          "metadata": {},
          "execution_count": 186
        }
      ]
    },
    {
      "cell_type": "code",
      "source": [
        "extend([0],0,[1],1)"
      ],
      "metadata": {
        "colab": {
          "base_uri": "https://localhost:8080/"
        },
        "id": "LWgfu4OZpMuj",
        "outputId": "f72f9a45-df35-4200-8e55-30b9c57149bd"
      },
      "execution_count": 185,
      "outputs": [
        {
          "output_type": "execute_result",
          "data": {
            "text/plain": [
              "[1]"
            ]
          },
          "metadata": {},
          "execution_count": 185
        }
      ]
    },
    {
      "cell_type": "code",
      "source": [
        "extend([1],1,[],0)"
      ],
      "metadata": {
        "colab": {
          "base_uri": "https://localhost:8080/"
        },
        "id": "BPjd6sodr1YF",
        "outputId": "c73a8966-c02e-4cc8-eb29-29a74c61a6c6"
      },
      "execution_count": 181,
      "outputs": [
        {
          "output_type": "execute_result",
          "data": {
            "text/plain": [
              "[1]"
            ]
          },
          "metadata": {},
          "execution_count": 181
        }
      ]
    },
    {
      "cell_type": "markdown",
      "source": [
        " **Q6.** Given an integer array nums, return true if any value appears at least twice in the array, and return false if every element is distinct.\n",
        "\n",
        "**Example 1:**\n",
        "```\n",
        "Input: nums = [1,2,3,1]\n",
        "Output: true\n",
        "```"
      ],
      "metadata": {
        "id": "EjWe9qpd1_f3"
      }
    },
    {
      "cell_type": "code",
      "source": [
        "def double_check(nums):\n",
        "  if len(set(nums)) ==  len(nums):\n",
        "    return False \n",
        "  else:\n",
        "    return True\n",
        "\n",
        "double_check([1,2,3,1])"
      ],
      "metadata": {
        "colab": {
          "base_uri": "https://localhost:8080/"
        },
        "id": "uPsJlCnW2Ou3",
        "outputId": "1059d491-fabe-46d1-e9d8-abd81d44fb94"
      },
      "execution_count": 187,
      "outputs": [
        {
          "output_type": "execute_result",
          "data": {
            "text/plain": [
              "True"
            ]
          },
          "metadata": {},
          "execution_count": 187
        }
      ]
    },
    {
      "cell_type": "code",
      "source": [
        "double_check([1,2,3])"
      ],
      "metadata": {
        "colab": {
          "base_uri": "https://localhost:8080/"
        },
        "id": "Wrseb5RwvVcV",
        "outputId": "156609da-c4d9-460d-e86d-9af44d7bfa6b"
      },
      "execution_count": 188,
      "outputs": [
        {
          "output_type": "execute_result",
          "data": {
            "text/plain": [
              "False"
            ]
          },
          "metadata": {},
          "execution_count": 188
        }
      ]
    },
    {
      "cell_type": "markdown",
      "source": [
        "  **Q7.** Given an integer array nums, move all 0's to the end of it while maintaining the relative order of the nonzero elements.\n",
        "\n",
        "Note that you must do this in-place without making a copy of the array.\n",
        "\n",
        "**Example 1:**\n",
        "```\n",
        "Input: nums = [0,1,0,3,12]\n",
        "Output: [1,3,12,0,0]\n",
        "```"
      ],
      "metadata": {
        "id": "8MUdKvTW1_ky"
      }
    },
    {
      "cell_type": "code",
      "source": [
        "nums = [0,1,0,3,12]\n",
        "\n",
        "left,right=0,1\n",
        "for i in range(len(nums)):\n",
        "  if right < len(nums):\n",
        "    if nums[right] == 0:\n",
        "      right += 1\n",
        "    if nums[left] == 0 and nums[right] != 0:\n",
        "      nums[left],nums[right] = nums[right],nums[left]\n",
        "      right += 1\n",
        "      left += 1\n",
        "\n",
        "nums"
      ],
      "metadata": {
        "colab": {
          "base_uri": "https://localhost:8080/"
        },
        "id": "1MAF2_3r2PJD",
        "outputId": "544472e8-ab6d-4542-c033-886ef8692368"
      },
      "execution_count": 231,
      "outputs": [
        {
          "output_type": "execute_result",
          "data": {
            "text/plain": [
              "[1, 3, 12, 0, 0]"
            ]
          },
          "metadata": {},
          "execution_count": 231
        }
      ]
    },
    {
      "cell_type": "code",
      "source": [],
      "metadata": {
        "id": "K0tjhatq4UN4"
      },
      "execution_count": null,
      "outputs": []
    },
    {
      "cell_type": "markdown",
      "source": [
        " **Q8.** You have a set of integers s, which originally contains all the numbers from 1 to n. Unfortunately, due to some error, one of the numbers in s got duplicated to another number in the set, which results in repetition of one number and loss of another number.\n",
        "\n",
        "You are given an integer array nums representing the data status of this set after the error.\n",
        "\n",
        "Find the number that occurs twice and the number that is missing and return them in the form of an array.\n",
        "\n",
        "**Example 1:**\n",
        "```\n",
        "Input: nums = [1,2,2,4]\n",
        "Output: [2,3]\n",
        "```"
      ],
      "metadata": {
        "id": "3hdJ65M61_pj"
      }
    },
    {
      "cell_type": "code",
      "source": [
        "def mismatch(nums):\n",
        "  for i in range(len(nums)-1):\n",
        "    if nums[i] == nums[i+1]:\n",
        "      return [nums[i],nums[i]+1]\n",
        "    \n",
        "mismatch([1,2,2,2,4])"
      ],
      "metadata": {
        "colab": {
          "base_uri": "https://localhost:8080/"
        },
        "id": "JdwaNxKx2QAf",
        "outputId": "d6dc81bd-bd42-4c76-d397-5477ae9d7164"
      },
      "execution_count": 235,
      "outputs": [
        {
          "output_type": "execute_result",
          "data": {
            "text/plain": [
              "[2, 3]"
            ]
          },
          "metadata": {},
          "execution_count": 235
        }
      ]
    },
    {
      "cell_type": "code",
      "source": [],
      "metadata": {
        "id": "kylMx9J_Fki0"
      },
      "execution_count": null,
      "outputs": []
    }
  ]
}