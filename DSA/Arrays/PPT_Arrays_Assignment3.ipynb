{
 "cells": [
  {
   "cell_type": "markdown",
   "id": "fbc6b69f",
   "metadata": {},
   "source": [
    "**Question 1:**\n",
    "Given an integer array nums of length n and an integer target, find three integers\n",
    "in nums such that the sum is closest to the target.\n",
    "Return the sum of the three integers.\n",
    "\n",
    "You may assume that each input would have exactly one solution.\n",
    "\n",
    "**Example 1:**\n",
    "```\n",
    "Input: nums = [-1,2,1,-4], target = 1\n",
    "Output: 2\n",
    "```\n",
    "**Explanation:** The sum that is closest to the target is 2. (-1 + 2 + 1 = 2)."
   ]
  },
  {
   "cell_type": "code",
   "execution_count": 9,
   "id": "aa7f30c6",
   "metadata": {},
   "outputs": [],
   "source": [
    "def threeSumClosest(nums, target):\n",
    "        nums.sort()\n",
    "        return KSumClosest(nums, 3, target)\n",
    "\n",
    "def KSumClosest(nums, k, target):\n",
    "    N = len(nums)\n",
    "    if N == k:\n",
    "        return sum(nums[:k])\n",
    "\n",
    "    # target too small\n",
    "    current = sum(nums[:k])\n",
    "    if current >= target:\n",
    "        return current\n",
    "    \n",
    "    # target too big\n",
    "    current = sum(nums[-k:])\n",
    "    if current <= target:\n",
    "        return current\n",
    "\n",
    "    if k == 1:\n",
    "        return min([(x, abs(target - x)) for x in nums], key = lambda x: x[1])[0]\n",
    "\n",
    "    closest = sum(nums[:k])\n",
    "    for i, x in enumerate(nums[:-k+1]):\n",
    "        if i>0 and x == nums[i-1]:\n",
    "            continue\n",
    "        current = KSumClosest(nums[i+1:], k-1, target - x) + x\n",
    "        if abs(target - current) < abs(target - closest):\n",
    "            if current == target:\n",
    "                return target\n",
    "            else:\n",
    "                closest = current\n",
    "\n",
    "    return closest"
   ]
  },
  {
   "cell_type": "code",
   "execution_count": 10,
   "id": "340c30c6",
   "metadata": {},
   "outputs": [
    {
     "data": {
      "text/plain": [
       "2"
      ]
     },
     "execution_count": 10,
     "metadata": {},
     "output_type": "execute_result"
    }
   ],
   "source": [
    "threeSumClosest([-1,2,1,-4],1)"
   ]
  },
  {
   "cell_type": "markdown",
   "id": "99de1f51",
   "metadata": {},
   "source": [
    "---"
   ]
  },
  {
   "cell_type": "markdown",
   "id": "5bad9197",
   "metadata": {},
   "source": [
    "**Question 2:**\n",
    "Given an array nums of n integers, return an array of all the unique quadruplets\n",
    "[nums[a], nums[b], nums[c], nums[d]] such that:\n",
    "```\n",
    "           ● 0 <= a, b, c, d < n\n",
    "           ● a, b, c, and d are distinct.\n",
    "           ● nums[a] + nums[b] + nums[c] + nums[d] == target\n",
    "```\n",
    "You may return the answer in any order.\n",
    "\n",
    "**Example 1:**\n",
    "```\n",
    "Input: nums = [1,0,-1,0,-2,2], target = 0\n",
    "Output: [[-2,-1,1,2],[-2,0,0,2],[-1,0,0,1]]\n",
    "```"
   ]
  },
  {
   "cell_type": "code",
   "execution_count": 13,
   "id": "36511a8c",
   "metadata": {},
   "outputs": [],
   "source": [
    "def fourSum(nums, target):\n",
    "    nums.sort()\n",
    "    results = []\n",
    "    helper(nums, target, 4, [], results)\n",
    "    return results\n",
    "\n",
    "def helper(nums, target, N, res, results):\n",
    "\n",
    "    if len(nums) < N or N < 2: #1\n",
    "        return\n",
    "    if N == 2: #2\n",
    "        output_2sum = twoSum(nums, target)\n",
    "        if output_2sum != []:\n",
    "            for idx in output_2sum:\n",
    "                results.append(res + idx)\n",
    "\n",
    "    else: \n",
    "        for i in range(len(nums) -N +1): #3\n",
    "            if nums[i]*N > target or nums[-1]*N < target: #4\n",
    "                break\n",
    "            if i == 0 or i > 0 and nums[i-1] != nums[i]: #5\n",
    "                helper(nums[i+1:], target-nums[i], N-1, res + [nums[i]], results)\n",
    "\n",
    "\n",
    "def twoSum(nums, target):\n",
    "    res = []\n",
    "    left = 0\n",
    "    right = len(nums) - 1 \n",
    "    while left < right: \n",
    "        temp_sum = nums[left] + nums[right] \n",
    "\n",
    "        if temp_sum == target:\n",
    "            res.append([nums[left], nums[right]])\n",
    "            right -= 1\n",
    "            left += 1\n",
    "            while left < right and nums[left] == nums[left - 1]:\n",
    "                left += 1\n",
    "            while right > left and nums[right] == nums[right + 1]:\n",
    "                right -= 1\n",
    "\n",
    "        elif temp_sum < target: \n",
    "            left +=1 \n",
    "        else: \n",
    "            right -= 1\n",
    "\n",
    "    return res"
   ]
  },
  {
   "cell_type": "code",
   "execution_count": 14,
   "id": "d52a6c64",
   "metadata": {},
   "outputs": [
    {
     "data": {
      "text/plain": [
       "[[-2, -1, 1, 2], [-2, 0, 0, 2], [-1, 0, 0, 1]]"
      ]
     },
     "execution_count": 14,
     "metadata": {},
     "output_type": "execute_result"
    }
   ],
   "source": [
    "fourSum([1,0,-1,0,-2,2],0)"
   ]
  },
  {
   "cell_type": "markdown",
   "id": "4b812ced",
   "metadata": {},
   "source": [
    "---"
   ]
  },
  {
   "cell_type": "markdown",
   "id": "f009579b",
   "metadata": {},
   "source": [
    "**Question 3:**\n",
    "A permutation of an array of integers is an arrangement of its members into a\n",
    "sequence or linear order.\n",
    "\n",
    "For example, for arr = [1,2,3], the following are all the permutations of arr:\n",
    "[1,2,3], [1,3,2], [2, 1, 3], [2, 3, 1], [3,1,2], [3,2,1].\n",
    "\n",
    "The next permutation of an array of integers is the next lexicographically greater\n",
    "permutation of its integer. More formally, if all the permutations of the array are\n",
    "sorted in one container according to their lexicographical order, then the next\n",
    "permutation of that array is the permutation that follows it in the sorted container.\n",
    "\n",
    "If such an arrangement is not possible, the array must be rearranged as the\n",
    "lowest possible order (i.e., sorted in ascending order).\n",
    "```\n",
    "● For example, the next permutation of arr = [1,2,3] is [1,3,2].\n",
    "● Similarly, the next permutation of arr = [2,3,1] is [3,1,2].\n",
    "● While the next permutation of arr = [3,2,1] is [1,2,3] because [3,2,1] does not\n",
    "have a lexicographical larger rearrangement.\n",
    "```\n",
    "Given an array of integers nums, find the next permutation of nums.\n",
    "The replacement must be in place and use only constant extra memory.\n",
    "\n",
    "**Example 1:**\n",
    "```\n",
    "Input: nums = [1,2,3]\n",
    "Output: [1,3,2]\n",
    "```\n"
   ]
  },
  {
   "cell_type": "code",
   "execution_count": 43,
   "id": "c59df703",
   "metadata": {},
   "outputs": [
    {
     "name": "stdout",
     "output_type": "stream",
     "text": [
      "[3, 1, 2]\n"
     ]
    }
   ],
   "source": [
    "def permute(nums):\n",
    "    def backtrack(first=0):\n",
    "        if first == n:\n",
    "            output.append(nums[:])\n",
    "        for i in range(first, n):\n",
    "            nums[first], nums[i] = nums[i], nums[first]\n",
    "            backtrack(first + 1)\n",
    "            nums[first], nums[i] = nums[i], nums[first]\n",
    "\n",
    "    n = len(nums)\n",
    "    output = []\n",
    "    backtrack()\n",
    "    return output\n",
    "\n",
    "arr = [1, 2, 3]\n",
    "permutations = permute(arr)\n",
    "print(permutations[-1])"
   ]
  },
  {
   "cell_type": "markdown",
   "id": "c8854236",
   "metadata": {},
   "source": [
    "---"
   ]
  },
  {
   "cell_type": "markdown",
   "id": "c2cadd1f",
   "metadata": {},
   "source": [
    "**Question 4:**\n",
    "Given a sorted array of distinct integers and a target value, return the index if the\n",
    "target is found. If not, return the index where it would be if it were inserted in\n",
    "order.\n",
    "\n",
    "You must write an algorithm with O(log n) runtime complexity.\n",
    "\n",
    "**Example 1:**\n",
    "```\n",
    "Input: nums = [1,3,5,6], target = 5\n",
    "Output: 2\n",
    "```"
   ]
  },
  {
   "cell_type": "code",
   "execution_count": 44,
   "id": "c2aa22b6",
   "metadata": {},
   "outputs": [],
   "source": [
    "def searchInsert(nums, target):\n",
    "    left = 0\n",
    "    right = len(nums) - 1\n",
    "\n",
    "    while left <= right:\n",
    "        mid = (left + right) // 2\n",
    "\n",
    "        if nums[mid] == target:\n",
    "            return mid\n",
    "        elif nums[mid] < target:\n",
    "            left = mid + 1\n",
    "        else:\n",
    "            right = mid - 1\n",
    "\n",
    "    return left"
   ]
  },
  {
   "cell_type": "code",
   "execution_count": 46,
   "id": "87a551fa",
   "metadata": {},
   "outputs": [
    {
     "name": "stdout",
     "output_type": "stream",
     "text": [
      "2\n"
     ]
    }
   ],
   "source": [
    "arr = [1, 3, 5, 6]\n",
    "target = 5\n",
    "insert_index = searchInsert(arr, target)\n",
    "print(insert_index)\n"
   ]
  },
  {
   "cell_type": "markdown",
   "id": "214de0b4",
   "metadata": {},
   "source": [
    "---"
   ]
  },
  {
   "cell_type": "markdown",
   "id": "91619641",
   "metadata": {},
   "source": [
    "**Question 5**\n",
    "You are given a large integer represented as an integer array digits, where each\n",
    "digits[i] is the ith digit of the integer. The digits are ordered from most significant\n",
    "to least significant in left-to-right order. The large integer does not contain any\n",
    "leading 0's.\n",
    "\n",
    "Increment the large integer by one and return the resulting array of digits.\n",
    "\n",
    "**Example 1:**\n",
    "\n",
    "``\n",
    "Input: digits = [1,2,3]\n",
    "Output: [1,2,4]\n",
    "``\n",
    "\n",
    "**Explanation:** The array represents the integer 123.\n",
    "Incrementing by one gives 123 + 1 = 124.\n",
    "Thus, the result should be [1,2,4]."
   ]
  },
  {
   "cell_type": "code",
   "execution_count": 47,
   "id": "188ea866",
   "metadata": {},
   "outputs": [],
   "source": [
    "def plusOne(digits):\n",
    "    n = len(digits)\n",
    "    \n",
    "    for i in range(n-1, -1, -1):\n",
    "        digits[i] += 1\n",
    "        \n",
    "        if digits[i] == 10:\n",
    "            digits[i] = 0\n",
    "        else:\n",
    "            return digits\n",
    "    \n",
    "    digits.insert(0, 1)\n",
    "    return digits\n"
   ]
  },
  {
   "cell_type": "code",
   "execution_count": 49,
   "id": "43de5020",
   "metadata": {},
   "outputs": [
    {
     "name": "stdout",
     "output_type": "stream",
     "text": [
      "[1, 2, 4]\n"
     ]
    }
   ],
   "source": [
    "arr = [1,2,3]\n",
    "result = plusOne(arr)\n",
    "print(result)\n"
   ]
  },
  {
   "cell_type": "markdown",
   "id": "70eb8775",
   "metadata": {},
   "source": [
    "---"
   ]
  },
  {
   "cell_type": "markdown",
   "id": "f45df011",
   "metadata": {},
   "source": [
    "**Question 6:**\n",
    "Given a non-empty array of integers nums, every element appears twice except\n",
    "for one. Find that single one.\n",
    "\n",
    "You must implement a solution with a linear runtime complexity and use only\n",
    "constant extra space.\n",
    "\n",
    "**Example 1:**\n",
    "```\n",
    "Input: nums = [2,2,1]\n",
    "Output: 1\n",
    "```"
   ]
  },
  {
   "cell_type": "code",
   "execution_count": 52,
   "id": "45b04614",
   "metadata": {},
   "outputs": [],
   "source": [
    "def singleNumber(nums):\n",
    "    result = 0\n",
    "    for num in nums:\n",
    "        result ^= num\n",
    "    return result"
   ]
  },
  {
   "cell_type": "code",
   "execution_count": 54,
   "id": "afadadd1",
   "metadata": {},
   "outputs": [
    {
     "name": "stdout",
     "output_type": "stream",
     "text": [
      "1\n"
     ]
    }
   ],
   "source": [
    "arr = [2, 2, 1]\n",
    "single = singleNumber(arr)\n",
    "print(single)"
   ]
  },
  {
   "cell_type": "markdown",
   "id": "d659d4a2",
   "metadata": {},
   "source": [
    "---"
   ]
  },
  {
   "cell_type": "markdown",
   "id": "37a307e0",
   "metadata": {},
   "source": [
    "**Question 7:**\n",
    "You are given an inclusive range [lower, upper] and a sorted unique integer array\n",
    "nums, where all elements are within the inclusive range.\n",
    "\n",
    "A number x is considered missing if x is in the range [lower, upper] and x is not in\n",
    "nums.\n",
    "\n",
    "Return the shortest sorted list of ranges that exactly covers all the missing\n",
    "numbers. That is, no element of nums is included in any of the ranges, and each\n",
    "missing number is covered by one of the ranges.\n",
    "\n",
    "**Example 1:**\n",
    "```\n",
    "Input: nums = [0,1,3,50,75], lower = 0, upper = 99\n",
    "Output: [[2,2],[4,49],[51,74],[76,99]]\n",
    "```\n",
    "**Explanation:**\n",
    "```\n",
    "The ranges are:\n",
    "[2,2]\n",
    "[4,49]\n",
    "[51,74]\n",
    "[76,99]\n",
    "```"
   ]
  },
  {
   "cell_type": "code",
   "execution_count": 59,
   "id": "8e1b0347",
   "metadata": {},
   "outputs": [],
   "source": [
    "def findMissingRanges(nums, lower, upper):\n",
    "    def formatRange(start, end):\n",
    "        if start == end:\n",
    "            return str(start)\n",
    "        else:\n",
    "            return str(start) + \",\" + str(end)\n",
    "    \n",
    "    ranges = []\n",
    "    \n",
    "    prev = lower - 1\n",
    "    \n",
    "    for num in nums:\n",
    "        if num > prev + 1:\n",
    "            ranges.append(formatRange(prev + 1, num - 1))\n",
    "        prev = num\n",
    "    \n",
    "    if upper > prev:\n",
    "        ranges.append(formatRange(prev + 1, upper))\n",
    "    \n",
    "    return ranges\n"
   ]
  },
  {
   "cell_type": "code",
   "execution_count": 61,
   "id": "124a6549",
   "metadata": {},
   "outputs": [
    {
     "name": "stdout",
     "output_type": "stream",
     "text": [
      "['2', '4,49', '51,74', '76,99']\n"
     ]
    }
   ],
   "source": [
    "arr = [0, 1, 3, 50, 75]\n",
    "lower = 0\n",
    "upper = 99\n",
    "result = findMissingRanges(arr, lower, upper)\n",
    "print(result)\n"
   ]
  },
  {
   "cell_type": "markdown",
   "id": "cb716f77",
   "metadata": {},
   "source": [
    "---"
   ]
  },
  {
   "cell_type": "markdown",
   "id": "12f980ac",
   "metadata": {},
   "source": [
    "**Question 8**\n",
    "Given an array of meeting time intervals where intervals[i] = [starti, endi],\n",
    "determine if a person could attend all meetings.\n",
    "\n",
    "**Example 1:**\n",
    "```\n",
    "Input: intervals = [[0,30],[5,10],[15,20]]\n",
    "Output: false\n",
    "```"
   ]
  },
  {
   "cell_type": "code",
   "execution_count": 62,
   "id": "a8ce9ece",
   "metadata": {},
   "outputs": [],
   "source": [
    "def canAttendMeetings(intervals):\n",
    "    intervals.sort(key=lambda x: x[0])  # Sort intervals by start time\n",
    "    \n",
    "    for i in range(1, len(intervals)):\n",
    "        if intervals[i][0] < intervals[i-1][1]:\n",
    "            return False\n",
    "    \n",
    "    return True\n"
   ]
  },
  {
   "cell_type": "code",
   "execution_count": 63,
   "id": "a56f25e8",
   "metadata": {},
   "outputs": [
    {
     "name": "stdout",
     "output_type": "stream",
     "text": [
      "False\n"
     ]
    }
   ],
   "source": [
    "intervals = [[0, 30], [5, 10], [15, 20]]\n",
    "result = canAttendMeetings(intervals)\n",
    "print(result)"
   ]
  },
  {
   "cell_type": "code",
   "execution_count": null,
   "id": "26384cc6",
   "metadata": {},
   "outputs": [],
   "source": []
  }
 ],
 "metadata": {
  "kernelspec": {
   "display_name": "Python 3 (ipykernel)",
   "language": "python",
   "name": "python3"
  },
  "language_info": {
   "codemirror_mode": {
    "name": "ipython",
    "version": 3
   },
   "file_extension": ".py",
   "mimetype": "text/x-python",
   "name": "python",
   "nbconvert_exporter": "python",
   "pygments_lexer": "ipython3",
   "version": "3.9.13"
  }
 },
 "nbformat": 4,
 "nbformat_minor": 5
}
