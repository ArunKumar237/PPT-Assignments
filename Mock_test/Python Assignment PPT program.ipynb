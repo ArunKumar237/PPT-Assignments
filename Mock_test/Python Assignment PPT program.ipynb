{
 "cells": [
  {
   "cell_type": "markdown",
   "id": "9f34dbae",
   "metadata": {},
   "source": [
    "1. Write a Python program to reverse a string without using any built-in string reversal functions.\n",
    "2. Implement a function to check if a given string is a palindrome.\n",
    "3. Write a program to find the largest element in a given list.\n",
    "4. Implement a function to count the occurrence of each element in a list.\n",
    "5. Write a Python program to find the second largest number in a list.\n",
    "6. Implement a function to remove duplicate elements from a list.\n",
    "7. Write a program to calculate the factorial of a given number.\n",
    "8. Implement a function to check if a given number is prime.\n",
    "9. Write a Python program to sort a list of integers in ascending order.\n",
    "10. Implement a function to find the sum of all numbers in a list.\n",
    "11. Write a program to find the common elements between two lists.\n",
    "12. Implement a function to check if a given string is an anagram of another string.\n",
    "13. Write a Python program to generate all permutations of a given string.\n",
    "14. Implement a function to calculate the Fibonacci sequence up to a given number of terms.\n",
    "15. Write a program to find the median of a list of numbers.\n",
    "16. Implement a function to check if a given list is sorted in non-decreasing order.\n",
    "17. Write a Python program to find the intersection of two lists.\n",
    "18. Implement a function to find the maximum subarray sum in a given list.\n",
    "19. Write a program to remove all vowels from a given string.\n",
    "20. Implement a function to reverse the order of words in a given sentence.\n",
    "21. Write a Python program to check if two strings are anagrams of each other.\n",
    "22. Implement a function to find the first non-repeating character in a string.\n",
    "23. Write a program to find the prime factors of a given number.\n",
    "24. Implement a function to check if a given number is a power of two.\n",
    "25. Write a Python program to merge two sorted lists into a single sorted list.\n",
    "26. Implement a function to find the mode of a list of numbers.\n",
    "27. Write a program to find the greatest common divisor (GCD) of two numbers.\n",
    "28. Implement a function to calculate the square root of a given number.\n",
    "29. Write a Python program to check if a given string is a valid palindrome ignoring non-alphanumeric characters.\n",
    "30. Implement a function to find the minimum element in a rotated sorted list.\n",
    "31. Write a program to find the sum of all even numbers in a list.\n",
    "32. Implement a function to calculate the power of a number using recursion.\n",
    "33. Write a Python program to remove duplicates from a list while preserving the order.\n",
    "34. Implement a function to find the longest common prefix among a list of strings.\n",
    "35. Write a program to check if a given number is a perfect square.\n",
    "36. Implement a function to calculate the product of all elements in a list.\n",
    "37. Write a Python program to reverse the order of words in a sentence while preserving the word order.\n",
    "38. Implement a function to find the missing number in a given list of consecutive numbers.\n",
    "39. Write a program to find the sum of digits of a given number.\n",
    "40. Implement a function to check if a given string is a valid palindrome considering case sensitivity.\n",
    "41. Write a Python program to find the smallest missing positive integer in a list.\n",
    "42. Implement a function to find the longest palindrome substring in a given string.\n",
    "43. Write a program to find the number of occurrences of a given element in a list.\n",
    "44. Implement a function to check if a given number is a perfect number.\n",
    "45. Write a Python program to remove all duplicates from a string.\n",
    "46. Implement a function to find the first missing positive"
   ]
  },
  {
   "cell_type": "code",
   "execution_count": 1,
   "id": "057a698b",
   "metadata": {},
   "outputs": [
    {
     "data": {
      "text/plain": [
       "'nurA'"
      ]
     },
     "execution_count": 1,
     "metadata": {},
     "output_type": "execute_result"
    }
   ],
   "source": [
    "# 1. Write a Python program to reverse a string without using any built-in string reversal functions.\n",
    "\n",
    "def reverseString(text):\n",
    "    return text[::-1]\n",
    "\n",
    "reverseString('Arun')"
   ]
  },
  {
   "cell_type": "code",
   "execution_count": 2,
   "id": "2d676c23",
   "metadata": {},
   "outputs": [
    {
     "data": {
      "text/plain": [
       "True"
      ]
     },
     "execution_count": 2,
     "metadata": {},
     "output_type": "execute_result"
    }
   ],
   "source": [
    "#2. Implement a function to check if a given string is a palindrome.\n",
    "\n",
    "def checkPalindrome(text):\n",
    "    return text[::-1]==text\n",
    "\n",
    "checkPalindrome('MOM')"
   ]
  },
  {
   "cell_type": "code",
   "execution_count": 3,
   "id": "1a65e095",
   "metadata": {},
   "outputs": [
    {
     "data": {
      "text/plain": [
       "79"
      ]
     },
     "execution_count": 3,
     "metadata": {},
     "output_type": "execute_result"
    }
   ],
   "source": [
    "#3. Write a program to find the largest element in a given list.\n",
    "\n",
    "def selectionSort(arr):\n",
    "    n = len(arr)\n",
    "    for i in range(n):\n",
    "        min_index = i\n",
    "        for j in range(i+1, n):\n",
    "            if arr[j] < arr[min_index]:\n",
    "                min_index = j\n",
    "        \n",
    "        arr[i], arr[min_index] = arr[min_index], arr[i]\n",
    "    return arr\n",
    "\n",
    "def findLargestEle(arr):\n",
    "    return selectionSort(arr)[-1]\n",
    "\n",
    "findLargestEle([50, 38, 45, 79, 19, 27, 29])"
   ]
  },
  {
   "cell_type": "code",
   "execution_count": 4,
   "id": "98be3dcd",
   "metadata": {},
   "outputs": [
    {
     "data": {
      "text/plain": [
       "{1: 1, 2: 4, 3: 1, 4: 1, 7: 1, 8: 2}"
      ]
     },
     "execution_count": 4,
     "metadata": {},
     "output_type": "execute_result"
    }
   ],
   "source": [
    "#4. Implement a function to count the occurrence of each element in a list.\n",
    "\n",
    "def findOccurance(arr):\n",
    "    dic = dict()\n",
    "    sett = list()\n",
    "    count = 0\n",
    "    \n",
    "    for j in range(len(arr)): #finds unique values\n",
    "        if arr[j-1] == arr[j]:\n",
    "            pass\n",
    "        else:\n",
    "            sett.append(arr[j])\n",
    "\n",
    "    for i in range(len(sett)): # counts the occurence of every unique value\n",
    "        for k in arr:\n",
    "            if sett[i] == k:\n",
    "                count += 1\n",
    "        dic[sett[i]] = count\n",
    "        count = 0\n",
    "    \n",
    "    return dic\n",
    "\n",
    "\n",
    "findOccurance([1, 2, 2, 2, 2, 3, 4, 7, 8, 8])"
   ]
  },
  {
   "cell_type": "code",
   "execution_count": 5,
   "id": "f34ac635",
   "metadata": {},
   "outputs": [
    {
     "name": "stdout",
     "output_type": "stream",
     "text": [
      "[8, 8, 8, 7, 4, 3, 2, 2, 2, 1]\n"
     ]
    },
    {
     "data": {
      "text/plain": [
       "7"
      ]
     },
     "execution_count": 5,
     "metadata": {},
     "output_type": "execute_result"
    }
   ],
   "source": [
    "#5. Write a Python program to find the second largest number in a list.\n",
    "\n",
    "def selectionSort(arr):\n",
    "    n = len(arr)\n",
    "    for i in range(n):\n",
    "        min_idx = i\n",
    "        for j in range(i+1, n):\n",
    "            if arr[j] > arr[min_idx]: #sorting in decreasing order\n",
    "                min_idx = j\n",
    "        \n",
    "        arr[i], arr[min_idx] = arr[min_idx], arr[i]\n",
    "    return arr\n",
    "\n",
    "\n",
    "def findSecLargest(arr):\n",
    "    sort_arr = selectionSort(arr)\n",
    "    print(sort_arr)\n",
    "    for i in range(len(sort_arr)-1):\n",
    "        if sort_arr[i] > sort_arr[i+1]:\n",
    "            return sort_arr[i+1]\n",
    "        \n",
    "findSecLargest([1, 2, 2, 8, 2, 3, 4, 7, 8, 8])"
   ]
  },
  {
   "cell_type": "code",
   "execution_count": 6,
   "id": "1ab09c6c",
   "metadata": {},
   "outputs": [
    {
     "data": {
      "text/plain": [
       "[8, 7, 4, 3, 2, 1]"
      ]
     },
     "execution_count": 6,
     "metadata": {},
     "output_type": "execute_result"
    }
   ],
   "source": [
    "#6. Implement a function to remove duplicate elements from a list.\n",
    "\n",
    "def removeDuplicate(arr):\n",
    "    unqVal = list()\n",
    "    for j in range(len(arr)): #finds unique values\n",
    "        if arr[j-1] == arr[j]:\n",
    "            pass\n",
    "        else:\n",
    "            unqVal.append(arr[j])\n",
    "    return unqVal\n",
    "\n",
    "removeDuplicate([8, 8, 8, 7, 4, 3, 2, 2, 2, 1])"
   ]
  },
  {
   "cell_type": "code",
   "execution_count": 7,
   "id": "3d11a9cd",
   "metadata": {},
   "outputs": [
    {
     "data": {
      "text/plain": [
       "120"
      ]
     },
     "execution_count": 7,
     "metadata": {},
     "output_type": "execute_result"
    }
   ],
   "source": [
    "#7. Write a program to calculate the factorial of a given number.\n",
    "\n",
    "def fact(n):\n",
    "    if n == 1 or n == 0:\n",
    "        return 1\n",
    "    else:\n",
    "        return n*fact(n-1)\n",
    "fact(5)\n"
   ]
  },
  {
   "cell_type": "code",
   "execution_count": 8,
   "id": "e6c172d9",
   "metadata": {},
   "outputs": [
    {
     "name": "stdout",
     "output_type": "stream",
     "text": [
      "11 - is a prime\n"
     ]
    }
   ],
   "source": [
    "#8. Implement a function to check if a given number is prime.\n",
    "\n",
    "def isPrime(num):\n",
    "    if num > 1:\n",
    "        for i in range(2, int(num/2)+1):\n",
    "            if num%i != 0:\n",
    "                print(num,'- is a prime')\n",
    "                break\n",
    "                \n",
    "isPrime(11)"
   ]
  },
  {
   "cell_type": "code",
   "execution_count": 9,
   "id": "f4d7e5c6",
   "metadata": {},
   "outputs": [
    {
     "data": {
      "text/plain": [
       "[1, 2, 2, 2, 3, 4, 7, 8, 8, 8]"
      ]
     },
     "execution_count": 9,
     "metadata": {},
     "output_type": "execute_result"
    }
   ],
   "source": [
    "#9. Write a Python program to sort a list of integers in ascending order.\n",
    "\n",
    "def selectionSort(arr):\n",
    "    n = len(arr)\n",
    "    for i in range(n):\n",
    "        min_idx = i\n",
    "        for j in range(i+1, n):\n",
    "            if arr[i] > arr[j]:\n",
    "                i = j\n",
    "        arr[min_idx], arr[i] = arr[i], arr[min_idx]\n",
    "    return arr\n",
    "              \n",
    "selectionSort([8, 8, 8, 7, 4, 3, 2, 2, 2, 1])"
   ]
  },
  {
   "cell_type": "code",
   "execution_count": 10,
   "id": "6bda7279",
   "metadata": {},
   "outputs": [
    {
     "data": {
      "text/plain": [
       "25"
      ]
     },
     "execution_count": 10,
     "metadata": {},
     "output_type": "execute_result"
    }
   ],
   "source": [
    "#10. Implement a function to find the sum of all numbers in a list.\n",
    "\n",
    "def sumOfIntegers(arr):\n",
    "    sum = 0\n",
    "    for i in arr:\n",
    "        sum += i\n",
    "    return sum\n",
    "\n",
    "sumOfIntegers([8, 7, 4, 3, 2, 1])"
   ]
  },
  {
   "cell_type": "code",
   "execution_count": 11,
   "id": "1a90485c",
   "metadata": {},
   "outputs": [
    {
     "data": {
      "text/plain": [
       "['Hii', 'Geeks', 'Geeks']"
      ]
     },
     "execution_count": 11,
     "metadata": {},
     "output_type": "execute_result"
    }
   ],
   "source": [
    "#11. Write a program to find the common elements between two lists.\n",
    "\n",
    "def searchCommonEle(arr1, arr2):\n",
    "    common = list()\n",
    "    for i in arr1:\n",
    "        for j in arr2:\n",
    "            if i == j:\n",
    "                common.append(i)\n",
    "    return common\n",
    "\n",
    "searchCommonEle([\"Hii\", \"Geeks\", \"for\", \"Geeks\"],[\"Hii\", \"Geeks\", \"Gaurav\"])"
   ]
  },
  {
   "cell_type": "code",
   "execution_count": 12,
   "id": "1fe5f27b",
   "metadata": {},
   "outputs": [
    {
     "data": {
      "text/plain": [
       "'its Anagram'"
      ]
     },
     "execution_count": 12,
     "metadata": {},
     "output_type": "execute_result"
    }
   ],
   "source": [
    "#12. Implement a function to check if a given string is an anagram of another string.\n",
    "\n",
    "def checkAnagram(text1,text2):\n",
    "    text1 = list(map(str,text1)).sort()\n",
    "    text2 = list(map(str,text2)).sort()\n",
    "    if text1 == text2:\n",
    "        return 'its Anagram'\n",
    "\n",
    "checkAnagram('are','ear')"
   ]
  },
  {
   "cell_type": "code",
   "execution_count": 13,
   "id": "48c7f1dc",
   "metadata": {},
   "outputs": [
    {
     "name": "stdout",
     "output_type": "stream",
     "text": [
      "-----------Permutations Of String ----------------\n",
      "XYZ\n",
      "XZY\n",
      "YXZ\n",
      "YZX\n",
      "ZXY\n",
      "ZYX\n"
     ]
    }
   ],
   "source": [
    "#13. Write a Python program to generate all permutations of a given string.\n",
    "\n",
    "import itertools\n",
    "\n",
    "def generatePermutation(text):\n",
    "    permutaion_list = list(itertools.permutations(text))\n",
    "    print(\"-----------Permutations Of String ----------------\")\n",
    "    for tup in permutaion_list:\n",
    "        print(\"\".join(tup))\n",
    "    \n",
    "generatePermutation(\"XYZ\")"
   ]
  },
  {
   "cell_type": "code",
   "execution_count": 14,
   "id": "399c4510",
   "metadata": {},
   "outputs": [
    {
     "name": "stdout",
     "output_type": "stream",
     "text": [
      "0 1 1 2 3 "
     ]
    }
   ],
   "source": [
    "#14. Implement a function to calculate the Fibonacci sequence up to a given number of terms.\n",
    "\n",
    "def fibonacci(num):\n",
    "    a = 0\n",
    "    b = 1\n",
    "    if num == 1:\n",
    "        print(a, end=' ')\n",
    "    else:\n",
    "        print(a, end=' ')\n",
    "        print(b, end=' ')\n",
    "        \n",
    "        for i in range(2, num):\n",
    "            c = a + b\n",
    "            a = b\n",
    "            b = c\n",
    "            print(c, end=' ')\n",
    "\n",
    "fibonacci(5)"
   ]
  },
  {
   "cell_type": "code",
   "execution_count": 15,
   "id": "d5abcf5b",
   "metadata": {},
   "outputs": [
    {
     "name": "stdout",
     "output_type": "stream",
     "text": [
      "sorted list: [1, 2, 3, 4, 7, 8]\n"
     ]
    },
    {
     "data": {
      "text/plain": [
       "3"
      ]
     },
     "execution_count": 15,
     "metadata": {},
     "output_type": "execute_result"
    }
   ],
   "source": [
    "#15. Write a program to find the median of a list of numbers.\n",
    "\n",
    "def SortList(arr):\n",
    "    n = len(arr)\n",
    "    for i in range(n):\n",
    "        min_idx = i\n",
    "        for j in range(i+1, n):\n",
    "            if arr[j] < arr[min_idx]: #sorting in decreasing order\n",
    "                min_idx = j\n",
    "        \n",
    "        arr[i], arr[min_idx] = arr[min_idx], arr[i]\n",
    "    return arr\n",
    "\n",
    "def findMedian(lis):\n",
    "    sortedlist = SortList(lis)\n",
    "    print('sorted list:',sortedlist)\n",
    "    idx = len(lis)//2\n",
    "    \n",
    "    if len(lis) % 2 == 0:\n",
    "        operand1 = sortedlist[idx-1]\n",
    "        operand2 = sortedlist[idx]\n",
    "        return (operand1+operand2)//2\n",
    "    else:\n",
    "        return sortedlist[idx]\n",
    "\n",
    "findMedian([8, 7, 4, 3, 2, 1])"
   ]
  },
  {
   "cell_type": "code",
   "execution_count": 16,
   "id": "8260e64a",
   "metadata": {},
   "outputs": [
    {
     "data": {
      "text/plain": [
       "True"
      ]
     },
     "execution_count": 16,
     "metadata": {},
     "output_type": "execute_result"
    }
   ],
   "source": [
    "#16. Implement a function to check if a given list is sorted in non-decreasing order.\n",
    "\n",
    "def isAscending(ls):\n",
    "    decide = False\n",
    "    for i in range(0,len(ls)-1):\n",
    "        if (ls[i] < ls[i+1]) == False:\n",
    "            return decide\n",
    "        elif (ls[i] < ls[i+1]) == True:\n",
    "            decide = True\n",
    "    return decide\n",
    "    \n",
    "isAscending([1, 2, 3, 4, 7, 8])"
   ]
  },
  {
   "cell_type": "code",
   "execution_count": 17,
   "id": "4311e2c1",
   "metadata": {},
   "outputs": [
    {
     "name": "stdout",
     "output_type": "stream",
     "text": [
      "2 4 7 "
     ]
    }
   ],
   "source": [
    "#17. Write a Python program to find the intersection of two lists.\n",
    "\n",
    "def findIntersection(list1, list2):\n",
    "    for i in list1:\n",
    "        for j in list2:\n",
    "            if j == i:\n",
    "                print(j, end=' ')\n",
    "                \n",
    "findIntersection([1, 2, 3, 4, 7, 8], [12, 2, 45, 4, 5, 7])"
   ]
  },
  {
   "cell_type": "code",
   "execution_count": 18,
   "id": "6b96d05a",
   "metadata": {},
   "outputs": [
    {
     "data": {
      "text/plain": [
       "([1, 3, 8, -2, 6], 16)"
      ]
     },
     "execution_count": 18,
     "metadata": {},
     "output_type": "execute_result"
    }
   ],
   "source": [
    "#18. Implement a function to find the maximum subarray sum in a given list.\n",
    "\n",
    "def maxSumOfSubarray(arr):\n",
    "    maxNum = 0\n",
    "    arrOfMax = []\n",
    "    for n in range(len(arr)-1,1,-1):\n",
    "        for i in range(len(arr)-1):\n",
    "            if len(arr[i:i+n]) == n:\n",
    "                temp = sum(arr[i:i+n])\n",
    "            if temp > maxNum:\n",
    "                maxNum = temp\n",
    "                arrOfMax = arr[i:i+n].copy()\n",
    "    return arrOfMax,maxNum\n",
    "       \n",
    "\n",
    "maxSumOfSubarray([1, 3, 8, -2, 6, -8, 5])"
   ]
  },
  {
   "cell_type": "code",
   "execution_count": 19,
   "id": "bf83ff02",
   "metadata": {},
   "outputs": [
    {
     "data": {
      "text/plain": [
       "'Wrt  prgrm t rmv ll vwls frm  gvn strng'"
      ]
     },
     "execution_count": 19,
     "metadata": {},
     "output_type": "execute_result"
    }
   ],
   "source": [
    "#19. Write a program to remove all vowels from a given string.\n",
    "\n",
    "def remOvals(text):\n",
    "    for i in 'aeiou':\n",
    "        text = text.replace(i.upper(),'')\n",
    "        text = text.replace(i.lower(),'')\n",
    "    return text\n",
    "\n",
    "remOvals('Write a program to remove all vowels from a given string')"
   ]
  },
  {
   "cell_type": "code",
   "execution_count": 20,
   "id": "2f987bcc",
   "metadata": {},
   "outputs": [
    {
     "data": {
      "text/plain": [
       "'esrever'"
      ]
     },
     "execution_count": 20,
     "metadata": {},
     "output_type": "execute_result"
    }
   ],
   "source": [
    "#20. Implement a function to reverse the order of words in a given sentence.\n",
    "\n",
    "def reverseString(text):\n",
    "    return text[::-1]\n",
    "\n",
    "reverseString('reverse')"
   ]
  },
  {
   "cell_type": "code",
   "execution_count": 21,
   "id": "6d6cd47f",
   "metadata": {},
   "outputs": [
    {
     "data": {
      "text/plain": [
       "'its Anagram'"
      ]
     },
     "execution_count": 21,
     "metadata": {},
     "output_type": "execute_result"
    }
   ],
   "source": [
    "#21. Write a Python program to check if two strings are anagrams of each other.\n",
    "\n",
    "def checkAnagram(text1,text2):\n",
    "    text1 = list(map(str,text1)).sort()\n",
    "    text2 = list(map(str,text2)).sort()\n",
    "    if text1 == text2:\n",
    "        return 'its Anagram'\n",
    "\n",
    "checkAnagram('arm','ram')"
   ]
  },
  {
   "cell_type": "code",
   "execution_count": 22,
   "id": "7dc60771",
   "metadata": {},
   "outputs": [
    {
     "data": {
      "text/plain": [
       "'f'"
      ]
     },
     "execution_count": 22,
     "metadata": {},
     "output_type": "execute_result"
    }
   ],
   "source": [
    "#22. Implement a function to find the first non-repeating character in a string.\n",
    "\n",
    "def findNonRepeated(text):\n",
    "    decide= True\n",
    "    n = len(text)\n",
    "    for i in range(n):\n",
    "        for j in range(0,i):\n",
    "            if text[i] == text[j]:\n",
    "                decide = False\n",
    "            \n",
    "        for k in range(i+1,n):\n",
    "            if text[i] == text[k]:\n",
    "                decide = False\n",
    "                \n",
    "        if decide == True:\n",
    "            return text[i]\n",
    "        \n",
    "        decide = True\n",
    "        \n",
    "        \n",
    "                \n",
    "\n",
    "findNonRepeated('geeksforgeeks')"
   ]
  },
  {
   "cell_type": "code",
   "execution_count": 23,
   "id": "bc2af91e",
   "metadata": {},
   "outputs": [
    {
     "name": "stdout",
     "output_type": "stream",
     "text": [
      "2 2 2 2 3 "
     ]
    }
   ],
   "source": [
    "#23. Write a program to find the prime factors of a given number.\n",
    "\n",
    "def printPrimeFactors(num):\n",
    "    \n",
    "    for i in range(2,num):\n",
    "        while num%i == 0:\n",
    "            print(i, end=' ')\n",
    "            num = num/i\n",
    "            \n",
    "printPrimeFactors(48)"
   ]
  },
  {
   "cell_type": "code",
   "execution_count": 24,
   "id": "f058e5a7",
   "metadata": {},
   "outputs": [
    {
     "data": {
      "text/plain": [
       "True"
      ]
     },
     "execution_count": 24,
     "metadata": {},
     "output_type": "execute_result"
    }
   ],
   "source": [
    "#24. Implement a function to check if a given number is a power of two.\n",
    "\n",
    "def checkPower2(num):\n",
    "    if num > 1:\n",
    "        if num%2 == 0:\n",
    "            return True\n",
    "        else:\n",
    "            return False\n",
    "    else:\n",
    "        return 'number should be greater than 1'\n",
    "    \n",
    "checkPower2(2)"
   ]
  },
  {
   "cell_type": "code",
   "execution_count": 25,
   "id": "4688a110",
   "metadata": {},
   "outputs": [
    {
     "data": {
      "text/plain": [
       "[1, 2, 3, 4, 5, 6]"
      ]
     },
     "execution_count": 25,
     "metadata": {},
     "output_type": "execute_result"
    }
   ],
   "source": [
    "#25. Write a Python program to merge two sorted lists into a single sorted list.\n",
    "\n",
    "def selectionSort(arr):\n",
    "    for i in range(len(arr)):\n",
    "        min_idx = i\n",
    "        for j in range(i+1, len(arr)):\n",
    "            if arr[j] < arr[i]:\n",
    "                i = j\n",
    "        arr[min_idx], arr[i] =  arr[i], arr[min_idx]\n",
    "    return arr\n",
    "\n",
    "def mergeList(list1, list2):\n",
    "    list1.extend(list2)\n",
    "    return selectionSort(list1)\n",
    "    \n",
    "mergeList([4,5,6],[1,2,3])"
   ]
  },
  {
   "cell_type": "code",
   "execution_count": 26,
   "id": "0bb39aa0",
   "metadata": {},
   "outputs": [
    {
     "data": {
      "text/plain": [
       "2"
      ]
     },
     "execution_count": 26,
     "metadata": {},
     "output_type": "execute_result"
    }
   ],
   "source": [
    "#26. Implement a function to find the mode of a list of numbers.\n",
    "\n",
    "from collections import OrderedDict\n",
    "\n",
    "def findMode(arr):\n",
    "    set_arr = set(arr)\n",
    "    dic = OrderedDict()\n",
    "    for i in set_arr:\n",
    "        dic[arr.count(i)] = i\n",
    "    \n",
    "    return sorted(dic.popitem())[0]\n",
    "        \n",
    "findMode([4, 2, 4, 3, 3, 3])"
   ]
  },
  {
   "cell_type": "code",
   "execution_count": 27,
   "id": "0e2bccc7",
   "metadata": {},
   "outputs": [
    {
     "name": "stdout",
     "output_type": "stream",
     "text": [
      "{3, 5}\n",
      "{2, 3, 5}\n"
     ]
    },
    {
     "data": {
      "text/plain": [
       "'GCD : 15'"
      ]
     },
     "execution_count": 27,
     "metadata": {},
     "output_type": "execute_result"
    }
   ],
   "source": [
    "#27. Write a program to find the greatest common divisor (GCD) of two numbers.\n",
    "\n",
    "def GCD(num):\n",
    "    list1 = set()\n",
    "    while (num > 1):\n",
    "        if num % 2 == 0:\n",
    "            num //= 2\n",
    "            list1.add(2)\n",
    "        if num % 3 == 0:\n",
    "            num //= 3\n",
    "            list1.add(3)\n",
    "        else:\n",
    "            list1.add(num)\n",
    "            num = 1\n",
    "            \n",
    "    return list1\n",
    "\n",
    "def findGCD(num1, num2):\n",
    "    set1 = GCD(num1)\n",
    "    set2 = GCD(num2)\n",
    "    print(set1)\n",
    "    print(set2)\n",
    "    GCD_value = 1\n",
    "    for i in set1.intersection(set2):\n",
    "        GCD_value *= i\n",
    "    return f\"GCD : {GCD_value}\"\n",
    "\n",
    "\n",
    "   \n",
    "findGCD(45,30)     "
   ]
  },
  {
   "cell_type": "code",
   "execution_count": 28,
   "id": "2f7af050",
   "metadata": {},
   "outputs": [
    {
     "data": {
      "text/plain": [
       "24"
      ]
     },
     "execution_count": 28,
     "metadata": {},
     "output_type": "execute_result"
    }
   ],
   "source": [
    "#28. Implement a function to calculate the square root of a given number.\n",
    "\n",
    "def sqrtOfNum(num):\n",
    "    count = 0\n",
    "    i = 1\n",
    "    while (num > 1): #Finding Square Roots by Repeated Subtraction Method\n",
    "        num -= i\n",
    "        count += 1\n",
    "        i += 2\n",
    "    return count\n",
    "\n",
    "sqrtOfNum(576)"
   ]
  },
  {
   "cell_type": "code",
   "execution_count": 29,
   "id": "f11828c2",
   "metadata": {},
   "outputs": [
    {
     "data": {
      "text/plain": [
       "True"
      ]
     },
     "execution_count": 29,
     "metadata": {},
     "output_type": "execute_result"
    }
   ],
   "source": [
    "#29. Write a Python program to check if a given string is a valid palindrome ignoring non-alphanumeric characters.\n",
    "\n",
    "import re\n",
    "def isPalindrome(text):\n",
    "    pattern = '[!\"#$%&\\'()*+,-./:;<=>?@[\\\\]^_`{|}~ ]'\n",
    "    text = text.lower()\n",
    "    text_without_punkt = re.sub(pattern,'',text)\n",
    "    if text_without_punkt[::-1] == text_without_punkt:\n",
    "        return True\n",
    "    else:\n",
    "        return False\n",
    "\n",
    "isPalindrome(\"A man, a plan, a canal: Panama\")"
   ]
  },
  {
   "cell_type": "code",
   "execution_count": 30,
   "id": "66a125bd",
   "metadata": {},
   "outputs": [
    {
     "name": "stdout",
     "output_type": "stream",
     "text": [
      "1\n"
     ]
    },
    {
     "data": {
      "text/plain": [
       "1"
      ]
     },
     "execution_count": 30,
     "metadata": {},
     "output_type": "execute_result"
    }
   ],
   "source": [
    "#30. Implement a function to find the minimum element in a rotated sorted list.\n",
    "\n",
    "def findMinEle(list1):\n",
    "    min_ele = list1[0]\n",
    "    for i in range(1,len(list1)):\n",
    "        print(list1[i])\n",
    "        if min_ele > list1[i]:\n",
    "            min_ele = list1[i]\n",
    "    return min_ele\n",
    "\n",
    "findMinEle([2,1])"
   ]
  },
  {
   "cell_type": "code",
   "execution_count": 31,
   "id": "9b0d0486",
   "metadata": {},
   "outputs": [
    {
     "data": {
      "text/plain": [
       "10"
      ]
     },
     "execution_count": 31,
     "metadata": {},
     "output_type": "execute_result"
    }
   ],
   "source": [
    "#31. Write a program to find the sum of all even numbers in a list.\n",
    "\n",
    "def SumOfEven(lis):\n",
    "    total = 0\n",
    "    for i in lis:\n",
    "        if i % 2 == 0:\n",
    "            total += i\n",
    "    return total\n",
    "\n",
    "SumOfEven([4, 2, 4, 3, 3, 3])"
   ]
  },
  {
   "cell_type": "code",
   "execution_count": 32,
   "id": "81c961a5",
   "metadata": {},
   "outputs": [
    {
     "data": {
      "text/plain": [
       "19683"
      ]
     },
     "execution_count": 32,
     "metadata": {},
     "output_type": "execute_result"
    }
   ],
   "source": [
    "#32. Implement a function to calculate the power of a number using recursion.\n",
    "\n",
    "def powerOfNum(base, exponent):\n",
    "    if exponent == 0:\n",
    "        return 1\n",
    "    else:\n",
    "        return base * powerOfNum(base,exponent-1)\n",
    "    \n",
    "powerOfNum(3, 9)"
   ]
  },
  {
   "cell_type": "code",
   "execution_count": 33,
   "id": "56935972",
   "metadata": {},
   "outputs": [
    {
     "data": {
      "text/plain": [
       "[2, 4, 3, 3, 3]"
      ]
     },
     "execution_count": 33,
     "metadata": {},
     "output_type": "execute_result"
    }
   ],
   "source": [
    "#33. Write a Python program to remove duplicates from a list while preserving the order.\n",
    "\n",
    "def remDups(lis):\n",
    "    set1 = set(lis)\n",
    "    final = []\n",
    "    count = 0\n",
    "    for i in lis:\n",
    "        for j in set1:\n",
    "            if i == j:\n",
    "                count += 1\n",
    "        if count > 1:\n",
    "            final.append(i)\n",
    "    return final\n",
    "\n",
    "remDups([4, 2, 4, 3, 3, 3])"
   ]
  },
  {
   "cell_type": "code",
   "execution_count": 34,
   "id": "103d85a5",
   "metadata": {},
   "outputs": [
    {
     "data": {
      "text/plain": [
       "'abc'"
      ]
     },
     "execution_count": 34,
     "metadata": {},
     "output_type": "execute_result"
    }
   ],
   "source": [
    "#34. Implement a function to find the longest common prefix among a list of strings.\n",
    "\n",
    "def longestPrefix(text1, text2):\n",
    "    comm = ''\n",
    "    for i in range(len(text1)):\n",
    "        if text1[i] == text2[i]:\n",
    "            comm += text1[i]\n",
    "        else:\n",
    "            break\n",
    "    return comm\n",
    "                \n",
    "longestPrefix('abcdefgh','abcefgh')"
   ]
  },
  {
   "cell_type": "code",
   "execution_count": 35,
   "id": "b3baad79",
   "metadata": {},
   "outputs": [
    {
     "data": {
      "text/plain": [
       "True"
      ]
     },
     "execution_count": 35,
     "metadata": {},
     "output_type": "execute_result"
    }
   ],
   "source": [
    "#35. Write a program to check if a given number is a perfect square.\n",
    "import math\n",
    "\n",
    "def perfectSqr(num):\n",
    "    if math.sqrt(num) - int(math.sqrt(num)) == 0:\n",
    "        return True\n",
    "    else:\n",
    "        return False\n",
    "\n",
    "perfectSqr(225)"
   ]
  },
  {
   "cell_type": "code",
   "execution_count": 36,
   "id": "eb5cc72e",
   "metadata": {},
   "outputs": [
    {
     "data": {
      "text/plain": [
       "15"
      ]
     },
     "execution_count": 36,
     "metadata": {},
     "output_type": "execute_result"
    }
   ],
   "source": [
    "#36. Implement a function to calculate the product of all elements in a list.\n",
    "\n",
    "def sumOfAll(list1):\n",
    "    total = 0\n",
    "    for i in list1:\n",
    "        total+=i\n",
    "    return total\n",
    "\n",
    "sumOfAll([1,2,3,4,5])"
   ]
  },
  {
   "cell_type": "code",
   "execution_count": 37,
   "id": "4ab57599",
   "metadata": {},
   "outputs": [
    {
     "data": {
      "text/plain": [
       "'order word the preserving while sentence a in words of order the reverse to program Python a Write'"
      ]
     },
     "execution_count": 37,
     "metadata": {},
     "output_type": "execute_result"
    }
   ],
   "source": [
    "#37. Write a Python program to reverse the order of words in a sentence while preserving the word order.\n",
    "\n",
    "def reverseWords(string):\n",
    "    return ' '.join(string.split(' ')[::-1])\n",
    "\n",
    "reverseWords('Write a Python program to reverse the order of words in a sentence while preserving the word order')"
   ]
  },
  {
   "cell_type": "code",
   "execution_count": 38,
   "id": "3efc25c1",
   "metadata": {},
   "outputs": [
    {
     "data": {
      "text/plain": [
       "3"
      ]
     },
     "execution_count": 38,
     "metadata": {},
     "output_type": "execute_result"
    }
   ],
   "source": [
    "#38. Implement a function to find the missing number in a given list of consecutive numbers.\n",
    "\n",
    "def selectionSort(arr):\n",
    "    n = len(arr)\n",
    "    for i in range(n):\n",
    "        min_idx = i\n",
    "        for j in range(i+1, n):\n",
    "            if arr[i] > arr[j]:\n",
    "                i = j\n",
    "        arr[i], arr[min_idx] = arr[min_idx], arr[i]\n",
    "    return arr\n",
    "\n",
    "def findMissing(lis1):\n",
    "    lis1 = selectionSort(lis1)\n",
    "    for i in range(len(lis1)-1):\n",
    "        if lis1[i+1] != lis1[i]+1:\n",
    "            return lis1[i]+1\n",
    "        \n",
    "findMissing([4,2,0,1])"
   ]
  },
  {
   "cell_type": "code",
   "execution_count": 39,
   "id": "409bfe8b",
   "metadata": {},
   "outputs": [
    {
     "data": {
      "text/plain": [
       "17"
      ]
     },
     "execution_count": 39,
     "metadata": {},
     "output_type": "execute_result"
    }
   ],
   "source": [
    "#39. Write a program to find the sum of digits of a given number.\n",
    "\n",
    "def sumOfdigits(num):\n",
    "    s = 0\n",
    "    for i in range(len(str(num))):\n",
    "        s += num % 10\n",
    "        num //= 10\n",
    "        \n",
    "    return s\n",
    "    \n",
    "sumOfdigits(674)"
   ]
  },
  {
   "cell_type": "code",
   "execution_count": 40,
   "id": "a1f79ad0",
   "metadata": {},
   "outputs": [
    {
     "name": "stdout",
     "output_type": "stream",
     "text": [
      "Mom : False\n",
      "mom : True\n"
     ]
    }
   ],
   "source": [
    "#40. Implement a function to check if a given string is a valid palindrome considering case sensitivity.\n",
    "\n",
    "def isPalindromeWithCase(text):\n",
    "    if text == text[::-1]:\n",
    "        print(text,':',True)\n",
    "    else:\n",
    "        print(text,':',False)\n",
    "\n",
    "isPalindromeWithCase('Mom')\n",
    "isPalindromeWithCase('mom')"
   ]
  },
  {
   "cell_type": "code",
   "execution_count": 41,
   "id": "0b366cea",
   "metadata": {},
   "outputs": [
    {
     "data": {
      "text/plain": [
       "1"
      ]
     },
     "execution_count": 41,
     "metadata": {},
     "output_type": "execute_result"
    }
   ],
   "source": [
    "#41. Write a Python program to find the smallest missing positive integer in a list.\n",
    "\n",
    "def findMissingMin(list2):\n",
    "    for i in range(1,len(list2)+1):\n",
    "        if i not in list2:\n",
    "            return i\n",
    "        \n",
    "        \n",
    "findMissingMin([2, 3, 7, 6, 8, -1, -10, 15])"
   ]
  },
  {
   "cell_type": "code",
   "execution_count": 42,
   "id": "5ba3824e",
   "metadata": {},
   "outputs": [
    {
     "data": {
      "text/plain": [
       "'geeksskeeg'"
      ]
     },
     "execution_count": 42,
     "metadata": {},
     "output_type": "execute_result"
    }
   ],
   "source": [
    "#42. Implement a function to find the longest palindrome substring in a given string.\n",
    "\n",
    "def findSubPalindrome(text):\n",
    "    n = len(text)\n",
    "    result = ''\n",
    "    if n % 2 == 0:\n",
    "        s1 = text[:n//2][::-1]\n",
    "        s2 = text[n//2:]\n",
    "    else:\n",
    "        s1 = text[:n//2][::-1]\n",
    "        s2 = text[(n//2)+1:]\n",
    "        \n",
    "    for i in range(len(s1)):\n",
    "        if s1[i]==s2[i]:\n",
    "            result += s1[i]\n",
    "        else:\n",
    "            return result[::-1]+result\n",
    "    \n",
    "findSubPalindrome('forgeeksskeegfor')"
   ]
  },
  {
   "cell_type": "code",
   "execution_count": 43,
   "id": "801f78a5",
   "metadata": {},
   "outputs": [
    {
     "data": {
      "text/plain": [
       "{'p': 1, 'r': 2, 'o': 1, 'g': 1, 'a': 1, 'm': 1}"
      ]
     },
     "execution_count": 43,
     "metadata": {},
     "output_type": "execute_result"
    }
   ],
   "source": [
    "#43. Write a program to find the number of occurrences of a given element in a list.\n",
    "\n",
    "def noOfOccurence(lis):\n",
    "    dic = dict()\n",
    "    count = 0\n",
    "    for i in lis:\n",
    "        for j in lis:\n",
    "            if i == j:\n",
    "                count += 1\n",
    "        dic[i] = count\n",
    "        count = 0\n",
    "    return dic\n",
    "\n",
    "noOfOccurence(['p','r','o','g','r','a','m'])"
   ]
  },
  {
   "cell_type": "code",
   "execution_count": 44,
   "id": "6b3427c3",
   "metadata": {},
   "outputs": [
    {
     "data": {
      "text/plain": [
       "\"it's perfect\""
      ]
     },
     "execution_count": 44,
     "metadata": {},
     "output_type": "execute_result"
    }
   ],
   "source": [
    "#44. Implement a function to check if a given number is a perfect number.\n",
    "\n",
    "def isPerfectNum(num):\n",
    "    i = 1\n",
    "    totalsum = 0\n",
    "    while (i < num):\n",
    "        if num % i == 0:\n",
    "            totalsum += i\n",
    "            i += 1\n",
    "        else:\n",
    "            i += 1\n",
    "    if totalsum == num:\n",
    "        return \"it's perfect\"\n",
    "    \n",
    "isPerfectNum(28)"
   ]
  },
  {
   "cell_type": "code",
   "execution_count": 45,
   "id": "a445653e",
   "metadata": {},
   "outputs": [
    {
     "data": {
      "text/plain": [
       "'progam'"
      ]
     },
     "execution_count": 45,
     "metadata": {},
     "output_type": "execute_result"
    }
   ],
   "source": [
    "#45. Write a Python program to remove all duplicates from a string.\n",
    "\n",
    "def remDuplicateInStr(text):\n",
    "    duptext = ''\n",
    "    for i in text:\n",
    "        if i not in duptext:\n",
    "            duptext += i               \n",
    "    return duptext\n",
    "\n",
    "remDuplicateInStr('program')"
   ]
  },
  {
   "cell_type": "code",
   "execution_count": 46,
   "id": "5c8be53f",
   "metadata": {},
   "outputs": [
    {
     "data": {
      "text/plain": [
       "3"
      ]
     },
     "execution_count": 46,
     "metadata": {},
     "output_type": "execute_result"
    }
   ],
   "source": [
    "#46. Implement a function to find the first missing positive\n",
    "\n",
    "def findMissingInt(list1):\n",
    "    for i in range(1,len(list1)+1):\n",
    "        if i not in list1:\n",
    "            return i\n",
    "\n",
    "findMissingInt([2, -9, 5, 11, 1, -10, 7])"
   ]
  },
  {
   "cell_type": "code",
   "execution_count": null,
   "id": "e3668d52",
   "metadata": {},
   "outputs": [],
   "source": []
  }
 ],
 "metadata": {
  "kernelspec": {
   "display_name": "Python 3 (ipykernel)",
   "language": "python",
   "name": "python3"
  },
  "language_info": {
   "codemirror_mode": {
    "name": "ipython",
    "version": 3
   },
   "file_extension": ".py",
   "mimetype": "text/x-python",
   "name": "python",
   "nbconvert_exporter": "python",
   "pygments_lexer": "ipython3",
   "version": "3.9.13"
  }
 },
 "nbformat": 4,
 "nbformat_minor": 5
}
